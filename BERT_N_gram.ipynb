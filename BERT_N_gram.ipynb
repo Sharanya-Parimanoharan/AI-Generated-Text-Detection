{
  "cells": [
    {
      "cell_type": "markdown",
      "metadata": {
        "id": "view-in-github",
        "colab_type": "text"
      },
      "source": [
        "<a href=\"https://colab.research.google.com/github/Sharanya-Parimanoharan/AI-Generated-Text-Detection/blob/main/BERT_N_gram.ipynb\" target=\"_parent\"><img src=\"https://colab.research.google.com/assets/colab-badge.svg\" alt=\"Open In Colab\"/></a>"
      ]
    },
    {
      "cell_type": "code",
      "execution_count": null,
      "metadata": {
        "id": "OmYCZm5SaQ8W"
      },
      "outputs": [],
      "source": [
        "from google.colab import drive\n"
      ]
    },
    {
      "cell_type": "code",
      "execution_count": null,
      "metadata": {
        "id": "Wbd4k6efaY54"
      },
      "outputs": [],
      "source": [
        "import numpy as np\n",
        "import pandas as pd\n",
        "from sklearn.model_selection import train_test_split\n",
        "from transformers import BertTokenizer, BertModel, AdamW\n",
        "import torch\n",
        "from torch.utils.data import DataLoader, TensorDataset\n",
        "from tqdm import tqdm\n",
        "import random\n",
        "from sklearn.feature_extraction.text import CountVectorizer\n",
        "from sklearn.metrics import accuracy_score, roc_auc_score, balanced_accuracy_score,classification_report\n",
        "import matplotlib.pyplot as plt\n"
      ]
    },
    {
      "cell_type": "code",
      "execution_count": null,
      "metadata": {
        "id": "gEX0hLfveACC"
      },
      "outputs": [],
      "source": [
        "# Set random seeds for reproducibility\n",
        "seed = 42\n",
        "random.seed(seed)\n",
        "np.random.seed(seed)\n",
        "torch.manual_seed(seed)\n",
        "if torch.cuda.is_available():\n",
        "       torch.cuda.manual_seed_all(seed)"
      ]
    },
    {
      "cell_type": "code",
      "execution_count": null,
      "metadata": {
        "id": "qK9qx5qSeC9P"
      },
      "outputs": [],
      "source": [
        "# Training parameters\n",
        "num_epochs = 5\n",
        "learning_rate = 2e-5\n",
        "\n",
        "loss_fn = torch.nn.CrossEntropyLoss()\n"
      ]
    },
    {
      "cell_type": "code",
      "execution_count": null,
      "metadata": {
        "id": "yC9UNnhzeUi1"
      },
      "outputs": [],
      "source": [
        "# Load your dataset\n",
        "df = pd.read_csv(\"drive/MyDrive/data_2.csv\")\n",
        "\n",
        "# Data preprocessing\n",
        "df['text'] = df['text'].str.lower()\n",
        "df[\"label_int\"] = np.where(df[\"label\"] == '\"AI\"', 1, 0)\n",
        "df['label_int'] = df['label_int'].astype(int)"
      ]
    },
    {
      "cell_type": "code",
      "execution_count": null,
      "metadata": {
        "id": "21N9HpMmepFz"
      },
      "outputs": [],
      "source": [
        "# Split data into train and test sets\n",
        "train_df, test_df = train_test_split(df, test_size=0.2, random_state=42)\n"
      ]
    },
    {
      "cell_type": "code",
      "execution_count": null,
      "metadata": {
        "id": "sKUpTYpaesVf"
      },
      "outputs": [],
      "source": [
        "# Load pre-trained BERT model and tokenizer\n",
        "model_name = 'bert-base-uncased'\n",
        "tokenizer = BertTokenizer.from_pretrained(model_name)\n",
        "model = BertModel.from_pretrained(model_name)"
      ]
    },
    {
      "cell_type": "code",
      "execution_count": null,
      "metadata": {
        "id": "LW-s8gbFeyvR"
      },
      "outputs": [],
      "source": [
        "# Tokenize and prepare data as DataLoader\n",
        "max_seq_length = 128\n",
        "batch_size = 12\n",
        "\n",
        "train_encodings = tokenizer(list(train_df['text']), truncation=True, padding=True, max_length=max_seq_length, return_tensors='pt')\n",
        "test_encodings = tokenizer(list(test_df['text']), truncation=True, padding=True, max_length=max_seq_length, return_tensors='pt')\n"
      ]
    },
    {
      "cell_type": "code",
      "execution_count": null,
      "metadata": {
        "id": "xF2JxbOEe2go"
      },
      "outputs": [],
      "source": [
        "# Extract n-gram features\n",
        "vectorizer = CountVectorizer(ngram_range=(1, 4))\n",
        "train_ngram_features = vectorizer.fit_transform(train_df['text']).toarray()\n",
        "test_ngram_features = vectorizer.transform(test_df['text']).toarray()\n"
      ]
    },
    {
      "cell_type": "code",
      "execution_count": null,
      "metadata": {
        "id": "smkdBTHNvsr_"
      },
      "outputs": [],
      "source": [
        "first_sentence_ngram_features = vectorizer.fit_transform([train_df['text'].iloc[0]]).toarray()\n",
        "\n",
        "# Display the features in a DataFrame for better visibility\n",
        "feature_names = vectorizer.get_feature_names_out()\n",
        "first_sentence_ngram_df = pd.DataFrame(first_sentence_ngram_features, columns=feature_names)\n",
        "\n",
        "# Print the DataFrame for the first sentence\n",
        "print(first_sentence_ngram_df)"
      ]
    },
    {
      "cell_type": "code",
      "execution_count": null,
      "metadata": {
        "id": "dfGN-3-te4jE"
      },
      "outputs": [],
      "source": [
        "\n",
        "# Convert n-gram features to PyTorch tensors\n",
        "train_ngram_tensors = torch.tensor(train_ngram_features, dtype=torch.float32)\n",
        "test_ngram_tensors = torch.tensor(test_ngram_features, dtype=torch.float32)\n",
        "\n",
        "train_input_ids = train_encodings.input_ids\n",
        "train_attention_mask = train_encodings.attention_mask\n"
      ]
    },
    {
      "cell_type": "code",
      "execution_count": null,
      "metadata": {
        "id": "8GrHFgIre6un"
      },
      "outputs": [],
      "source": [
        "# Ensure the n-gram features have the same sequence length as BERT\n",
        "train_ngram_tensors = train_ngram_tensors[:, :max_seq_length]\n",
        "\n",
        "# Append n-gram features to input tensors\n",
        "train_input_ids = torch.cat([train_input_ids, train_ngram_tensors], dim=1).long()\n"
      ]
    },
    {
      "cell_type": "code",
      "execution_count": null,
      "metadata": {
        "id": "bZYOTp59e95E"
      },
      "outputs": [],
      "source": [
        "\n",
        "# Create a custom model that combines BERT embeddings and n-gram features\n",
        "class CustomModel(torch.nn.Module):\n",
        "    def __init__(self, bert_model, ngram_input_size, num_labels):\n",
        "        super(CustomModel, self).__init__()\n",
        "        self.bert = bert_model\n",
        "        self.linear = torch.nn.Linear(bert_model.config.hidden_size + ngram_input_size, num_labels)\n",
        "\n",
        "    def forward(self, input_ids, attention_mask, ngram_features):\n",
        "        bert_outputs = self.bert(input_ids, attention_mask=attention_mask)\n",
        "        pooled_output = bert_outputs.pooler_output\n",
        "        combined_features = torch.cat([pooled_output, ngram_features], dim=1)\n",
        "        logits = self.linear(combined_features)\n",
        "        return logits\n"
      ]
    },
    {
      "cell_type": "code",
      "execution_count": null,
      "metadata": {
        "id": "Z3AFASu2fAZh"
      },
      "outputs": [],
      "source": [
        "# Instantiate your custom model\n",
        "num_labels = 2  # assuming binary classification\n",
        "\n",
        "custom_model = CustomModel(model, ngram_input_size=train_ngram_tensors.shape[1], num_labels=num_labels)\n",
        "\n",
        "optimizer = AdamW(custom_model.parameters(), lr=learning_rate)"
      ]
    },
    {
      "cell_type": "code",
      "execution_count": null,
      "metadata": {
        "id": "QPYhwqQxfDvF"
      },
      "outputs": [],
      "source": [
        "# Tokenize and prepare test data\n",
        "test_input_ids = test_encodings.input_ids\n",
        "test_attention_mask = test_encodings.attention_mask\n",
        "test_ngram_tensors = test_ngram_tensors[:, :max_seq_length]\n",
        "test_input_ids = torch.cat([test_input_ids, test_ngram_tensors], dim=1).long()\n",
        "\n",
        "train_attention_mask = torch.cat([train_attention_mask, torch.ones_like(train_ngram_tensors)], dim=1)\n",
        "test_attention_mask = torch.cat([test_attention_mask, torch.ones_like(test_ngram_tensors)], dim=1)\n"
      ]
    },
    {
      "cell_type": "code",
      "execution_count": null,
      "metadata": {
        "id": "oKCQs_-vfGqn"
      },
      "outputs": [],
      "source": [
        "# Convert to PyTorch DataLoader\n",
        "train_labels = torch.tensor(list(train_df['label_int']), dtype=torch.long)\n",
        "test_labels = torch.tensor(list(test_df['label_int']), dtype=torch.long)\n",
        "\n",
        "train_dataset = TensorDataset(train_input_ids, train_attention_mask, train_labels)\n",
        "test_dataset = TensorDataset(test_input_ids, test_attention_mask, test_labels)\n",
        "\n",
        "train_dataloader = DataLoader(train_dataset, batch_size=batch_size, shuffle=True)\n",
        "test_dataloader = DataLoader(test_dataset, batch_size=batch_size)"
      ]
    },
    {
      "cell_type": "code",
      "execution_count": null,
      "metadata": {
        "id": "F0nE76PMfJVO"
      },
      "outputs": [],
      "source": [
        "train_loss_values = []\n",
        "\n",
        "\n",
        "# Training loop\n",
        "for epoch in range(num_epochs):\n",
        "    custom_model.train()\n",
        "    train_loss = 0.0\n",
        "    for batch in tqdm(train_dataloader, desc=f'Epoch {epoch + 1}'):\n",
        "        optimizer.zero_grad()\n",
        "        input_ids, attention_mask, labels = batch\n",
        "        ngram_features = input_ids[:, -train_ngram_tensors.shape[1]:]  # Extract n-gram features\n",
        "        logits = custom_model(input_ids, attention_mask=attention_mask, ngram_features=ngram_features)\n",
        "        loss = loss_fn(logits, labels)\n",
        "        loss.backward()\n",
        "        optimizer.step()\n",
        "        train_loss += loss.item()\n",
        "        torch.cuda.empty_cache()\n",
        "\n",
        "\n",
        "    avg_train_loss = train_loss / len(train_dataloader)\n",
        "    train_loss_values.append(avg_train_loss)\n",
        "\n",
        "    print(f'Epoch {epoch + 1} - Avg. Training Loss: {avg_train_loss}')"
      ]
    },
    {
      "cell_type": "code",
      "execution_count": null,
      "metadata": {
        "id": "s0mSYokxfNP-"
      },
      "outputs": [],
      "source": [
        "# Plotting the training loss graph\n",
        "plt.plot(range(1, num_epochs + 1), train_loss_values, label='Training Loss')\n",
        "plt.xlabel('Epoch')\n",
        "plt.ylabel('Loss')\n",
        "plt.title('Training Loss Over Epochs')\n",
        "plt.legend()\n",
        "plt.show()\n",
        "# Save the trained model\n",
        "torch.save(custom_model.state_dict(), 'custom_model.pth')\n",
        "torch.save(custom_model.state_dict(), '/content/drive/MyDrive/custom_model.pth')\n",
        "\n",
        "print(f\"Length of train_loss_values: {len(train_loss_values)}\")\n"
      ]
    },
    {
      "cell_type": "code",
      "execution_count": null,
      "metadata": {
        "id": "2vHH7YYNfQuZ"
      },
      "outputs": [],
      "source": [
        "# Evaluation\n",
        "custom_model.eval()\n",
        "eval_loss = 0.0\n",
        "predictions = []\n",
        "true_labels = []\n",
        "\n",
        "with torch.no_grad():\n",
        "    for batch in tqdm(test_dataloader, desc='Evaluating'):\n",
        "        input_ids, attention_mask, labels = batch\n",
        "        ngram_features = input_ids[:, -test_ngram_tensors.shape[1]:]  # Extract n-gram features\n",
        "        logits = custom_model(input_ids, attention_mask=attention_mask, ngram_features=ngram_features)\n",
        "        loss = loss_fn(logits, labels)\n",
        "        eval_loss += loss.item()\n",
        "        predictions.extend(logits.argmax(dim=1).tolist())\n",
        "        true_labels.extend(labels.tolist())\n",
        "\n",
        "# Calculate evaluation metrics\n",
        "accuracy = accuracy_score(true_labels, predictions)\n",
        "auc_score = roc_auc_score(true_labels, predictions)\n",
        "balanced_accuracy = balanced_accuracy_score(true_labels, predictions)\n",
        "report = classification_report(true_labels, predictions)\n",
        "\n",
        "print(f'Accuracy: {accuracy}')\n",
        "print(f'AUC: {auc_score}')\n",
        "print(f'Balanced Accuracy: {balanced_accuracy}')\n",
        "print(\"Classification Report:\\n\", report)"
      ]
    },
    {
      "cell_type": "code",
      "execution_count": null,
      "metadata": {
        "id": "mNtSq7dp7q2E"
      },
      "outputs": [],
      "source": [
        "\n",
        "\n",
        "new_test_df=pd.read_csv(\"drive/MyDrive/test.csv\")\n",
        "# Data preprocessing\n",
        "new_test_df['text'] = new_test_df['text'].str.lower()\n",
        "new_test_df[\"label_int\"] = np.where(new_test_df[\"label\"] == '\"AI\"', 1, 0)\n",
        "new_test_df['label_int'] = new_test_df['label_int'].astype(int)\n",
        "new_test_labels = new_test_df['label_int'].tolist()\n",
        "\n",
        "# Assuming you've already defined your model architecture\n",
        "# with the CustomModel class and initialized it with the correct parameters.\n",
        "\n",
        "# Create an instance of the CustomModel\n",
        "loaded_model = CustomModel(model, ngram_input_size=train_ngram_tensors.shape[1], num_labels=num_labels)\n",
        "\n",
        "# Load the saved model state dictionary\n",
        "loaded_model.load_state_dict(torch.load('/content/drive/MyDrive/custom_model.pth'))\n",
        "\n",
        "# Set the model to evaluation mode\n",
        "loaded_model.eval()\n",
        "\n",
        "# Now, you can use the loaded_model for making predictions on new data\n",
        "\n",
        "# For example, assuming you have a new test dataset named 'new_test_df'\n",
        "# Perform the necessary preprocessing, tokenization, and feature extraction on 'new_test_df'\n",
        "\n",
        "# Combine BERT Input and N-gram Features\n",
        "new_test_encodings = tokenizer(list(new_test_df['text']), truncation=True, padding=True, max_length=max_seq_length, return_tensors='pt')\n",
        "new_test_ngram_features = vectorizer.transform(new_test_df['text']).toarray()\n",
        "new_test_ngram_tensors = torch.tensor(new_test_ngram_features, dtype=torch.float32)\n",
        "\n",
        "\n",
        "\n",
        "print(new_test_encodings.input_ids.size())\n",
        "print(new_test_encodings.attention_mask.size())\n",
        "print(test_labels.size())\n",
        "\n",
        "\n",
        "\n",
        "\n",
        "new_test_input_ids = torch.cat([new_test_encodings.input_ids, new_test_ngram_tensors[:, :max_seq_length]], dim=1).long()\n",
        "\n",
        "new_test_attention_mask = torch.cat([new_test_encodings.attention_mask, torch.ones_like(new_test_ngram_tensors)], dim=1)\n",
        "new_test_input_ids = new_test_input_ids[:, :max_seq_length]\n",
        "new_test_attention_mask = new_test_attention_mask[:, :max_seq_length]\n",
        "\n",
        "new_test_labels = torch.tensor(list(new_test_df['label_int']), dtype=torch.long)\n",
        "new_test_dataset = TensorDataset(new_test_encodings.input_ids, new_test_encodings.attention_mask, new_test_labels)\n",
        "\n",
        "new_test_dataloader = DataLoader(new_test_dataset, batch_size=batch_size)\n",
        "\n",
        "\n",
        "### Model Inference\n",
        "##with torch.no_grad():\n",
        "##    logits = loaded_model(new_test_input_ids, attention_mask=new_test_attention_mask, ngram_features=new_test_ngram_tensors)\n",
        "##    predictions = logits.argmax(dim=1).tolist()\n",
        "predictions = []\n",
        "true_labels = []\n",
        "\n",
        "\n",
        "with torch.no_grad():\n",
        "    for batch in tqdm(new_test_dataloader, desc='Evaluating'):\n",
        "        input_ids, attention_mask, labels = batch\n",
        "        ngram_features = input_ids[:, -test_ngram_tensors.shape[1]:]  # Extract n-gram features\n",
        "        logits = custom_model(input_ids, attention_mask=attention_mask, ngram_features=ngram_features)\n",
        "        predictions.extend(logits.argmax(dim=1).tolist())\n",
        "        true_labels.extend(labels.tolist())\n",
        "\n",
        "# Now 'predictions' contains the predicted labels for the new test data\n",
        "# Calculate accuracy\n",
        "print(predictions)\n",
        "print(true_labels)\n",
        "\n",
        "accuracy = accuracy_score(true_labels, predictions)\n",
        "\n",
        "print(f'Accuracy on the new test data: {accuracy}')\n",
        "\n",
        "\n",
        "# Print some text, true labels, and predictions\n",
        "for i in range(min(7, len(new_test_labels))):  # Print the first 5 samples\n",
        "    print(f\"Text: {new_test_df['text'].iloc[i]}\")\n",
        "    print(f\"True Label: {new_test_labels[i]}, Predicted Label: {predictions[i]}\")\n",
        "    print(\"=\"*50)\n"
      ]
    },
    {
      "cell_type": "code",
      "execution_count": null,
      "metadata": {
        "colab": {
          "background_save": true
        },
        "id": "cXnaCmLlky1w"
      },
      "outputs": [],
      "source": [
        "from sklearn.metrics import accuracy_score, roc_auc_score, precision_score,classification_report,recall_score,f1_score, confusion_matrix\n",
        "\n",
        "new_test_df=pd.read_csv(\"drive/MyDrive/test_new.csv\")\n",
        "# Data preprocessing\n",
        "new_test_df['text'] = new_test_df['text'].str.lower()\n",
        "new_test_df[\"label_int\"] = np.where(new_test_df[\"label\"] == '\"AI\"', 1, 0)\n",
        "new_test_df['label_int'] = new_test_df['label_int'].astype(int)\n",
        "new_test_labels = new_test_df['label_int'].tolist()\n",
        "\n",
        "# Assuming you've already defined your model architecture\n",
        "# with the CustomModel class and initialized it with the correct parameters.\n",
        "\n",
        "# Create an instance of the CustomModel\n",
        "loaded_model = CustomModel(model, ngram_input_size=train_ngram_tensors.shape[1], num_labels=num_labels)\n",
        "\n",
        "# Load the saved model state dictionary\n",
        "loaded_model.load_state_dict(torch.load('/content/drive/MyDrive/custom_model.pth'))\n",
        "\n",
        "# Set the model to evaluation mode\n",
        "loaded_model.eval()\n",
        "\n",
        "# Now, you can use the loaded_model for making predictions on new data\n",
        "\n",
        "# For example, assuming you have a new test dataset named 'new_test_df'\n",
        "# Perform the necessary preprocessing, tokenization, and feature extraction on 'new_test_df'\n",
        "\n",
        "# Combine BERT Input and N-gram Features\n",
        "new_test_encodings = tokenizer(list(new_test_df['text']), truncation=True, padding=True, max_length=max_seq_length, return_tensors='pt')\n",
        "new_test_ngram_features = vectorizer.transform(new_test_df['text']).toarray()\n",
        "new_test_ngram_tensors = torch.tensor(new_test_ngram_features, dtype=torch.float32)\n",
        "\n",
        "\n",
        "\n",
        "print(new_test_encodings.input_ids.size())\n",
        "print(new_test_encodings.attention_mask.size())\n",
        "print(test_labels.size())\n",
        "\n",
        "\n",
        "\n",
        "\n",
        "new_test_input_ids = torch.cat([new_test_encodings.input_ids, new_test_ngram_tensors[:, :max_seq_length]], dim=1).long()\n",
        "\n",
        "new_test_attention_mask = torch.cat([new_test_encodings.attention_mask, torch.ones_like(new_test_ngram_tensors)], dim=1)\n",
        "new_test_input_ids = new_test_input_ids[:, :max_seq_length]\n",
        "new_test_attention_mask = new_test_attention_mask[:, :max_seq_length]\n",
        "\n",
        "new_test_labels = torch.tensor(list(new_test_df['label_int']), dtype=torch.long)\n",
        "new_test_dataset = TensorDataset(new_test_encodings.input_ids, new_test_encodings.attention_mask, new_test_labels)\n",
        "\n",
        "new_test_dataloader = DataLoader(new_test_dataset, batch_size=batch_size)\n",
        "\n",
        "\n",
        "### Model Inference\n",
        "##with torch.no_grad():\n",
        "##    logits = loaded_model(new_test_input_ids, attention_mask=new_test_attention_mask, ngram_features=new_test_ngram_tensors)\n",
        "##    predictions = logits.argmax(dim=1).tolist()\n",
        "predictions = []\n",
        "true_labels = []\n",
        "\n",
        "\n",
        "with torch.no_grad():\n",
        "    for batch in tqdm(new_test_dataloader, desc='Evaluating'):\n",
        "        input_ids, attention_mask, labels = batch\n",
        "        ngram_features = input_ids[:, -test_ngram_tensors.shape[1]:]  # Extract n-gram features\n",
        "        logits = custom_model(input_ids, attention_mask=attention_mask, ngram_features=ngram_features)\n",
        "        predictions.extend(logits.argmax(dim=1).tolist())\n",
        "        true_labels.extend(labels.tolist())\n",
        "\n",
        "# Now 'predictions' contains the predicted labels for the new test data\n",
        "# Calculate accuracy\n",
        "print(predictions)\n",
        "print(true_labels)\n",
        "\n",
        "np.savetxt('/content/drive/MyDrive/pred_BERTNgram.csv', predictions, delimiter=',',  fmt='%.2f')\n",
        "\n",
        "\n",
        "accuracy = accuracy_score(true_labels, predictions)\n",
        "precision_ai = precision_score(true_labels, predictions , pos_label=1)  # Assuming \"AI\" is the positive class\n",
        "precision_human = precision_score(true_labels, predictions, pos_label=0)  # Assuming \"AI\" is the positive class\n",
        "\n",
        "recall_ai = recall_score(true_labels, predictions, pos_label=1)  # Assuming \"AI\" is the positive class\n",
        "recall_human = recall_score(true_labels, predictions, pos_label=0)  # Assuming \"AI\" is the positive class\n",
        "\n",
        "f1_ai = f1_score(true_labels, predictions, pos_label=1)  # Assuming \"AI\" is the positive class\n",
        "f1_human = f1_score(true_labels, predictions, pos_label=0)  # Assuming \"AI\" is the positive class\n",
        "conf_matrix = confusion_matrix(true_labels, predictions)\n",
        "\n",
        "\n",
        "print(f'Accuracy on the new test data: {accuracy}')\n",
        "print(\"Precision:\", precision_ai)\n",
        "print(\"Precision:\", precision_human)\n",
        "\n",
        "print(\"Recall:\", recall_ai)\n",
        "print(\"Recall:\", recall_human)\n",
        "\n",
        "print(\"F1-Score:\", f1_ai)\n",
        "print(\"F1-Score:\", f1_human)\n",
        "\n",
        "# Print some text, true labels, and predictions\n",
        "for i in range(min(7, len(new_test_labels))):  # Print the first 5 samples\n",
        "    print(f\"Text: {new_test_df['text'].iloc[i]}\")\n",
        "    print(f\"True Label: {new_test_labels[i]}, Predicted Label: {predictions[i]}\")\n",
        "    print(\"=\"*50)\n"
      ]
    },
    {
      "cell_type": "code",
      "execution_count": null,
      "metadata": {
        "colab": {
          "background_save": true
        },
        "id": "WKFCSxp9DrT-"
      },
      "outputs": [],
      "source": [
        "import matplotlib.pyplot as plt\n",
        "import numpy as np\n",
        "\n",
        "# Sample data (replace with your actual values)\n",
        "ai_values = [precision_ai,recall_ai,f1_ai]\n",
        "human_values = [precision_human,recall_human,f1_human]\n",
        "\n",
        "# Metrics names\n",
        "metrics = [ 'Precision', 'Recall', 'F1-Score']\n",
        "\n",
        "# Number of metrics\n",
        "num_metrics = len(metrics)\n",
        "\n",
        "# Create an array of indices for each metric\n",
        "indices = np.arange(num_metrics)\n",
        "\n",
        "# Bar width\n",
        "bar_width = 0.35\n",
        "\n",
        "# Plotting\n",
        "fig, ax = plt.subplots(figsize=(16, 7))\n",
        "\n",
        "# Plot AI values\n",
        "ax.bar(indices, ai_values, bar_width, label='AI', color='blue',alpha=0.5,width=0.3)\n",
        "\n",
        "# Plot Human values\n",
        "ax.bar(indices + bar_width, human_values, bar_width, label='Human', color='orange')\n",
        "\n",
        "# Customize the plot\n",
        "# Make the y-axis tick labels darker and bigger\n",
        "ax.tick_params(axis='both', labelsize=20, labelcolor='black')\n",
        "\n",
        "# Make the axis labels (x and y) bold\n",
        "ax.xaxis.label.set_fontweight('bold')\n",
        "ax.yaxis.label.set_fontweight('bold')\n",
        "ax.set_xticks(indices + bar_width / 2)\n",
        "\n",
        "ax.set_xticklabels(metrics)\n",
        "ax.legend()\n",
        "ax.set_ylabel('Metric Values',fontweight='bold')\n",
        "#ax.set_title('Comparison of AI and Human Performance Metrics')\n",
        "\n",
        "# Show the plot\n",
        "plt.show()"
      ]
    },
    {
      "cell_type": "code",
      "execution_count": null,
      "metadata": {
        "id": "Fx9lMbc5W2dX"
      },
      "outputs": [],
      "source": [
        "# Extract values from confusion matrix\n",
        "tn, fp, fn, tp = conf_matrix.ravel()\n",
        "\n",
        "# Plotting\n",
        "labels = ['True Negative', 'False Positive', 'False Negative', 'True Positive']\n",
        "values = [tn, fp, fn, tp]\n",
        "\n",
        "fig, ax = plt.subplots()\n",
        "bars = ax.bar(labels, values, color=['pink', 'yellow', 'orange', 'blue'],alpha=0.8,width=0.3)\n",
        "\n",
        "# Add labels and title\n",
        "ax.set_ylabel('Count')\n",
        "ax.set_title('Confusion Matrix')\n",
        "\n",
        "# Add value annotations on top of the bars\n",
        "for bar in bars:\n",
        "    yval = bar.get_height()\n",
        "    plt.text(bar.get_x() + bar.get_width()/2, yval, round(yval, 2), ha='center', va='bottom')\n",
        "\n",
        "ax.tick_params(axis='y', labelsize=20, labelcolor='black')\n",
        "ax.set_xticklabels(labels, fontweight='bold')\n",
        "\n",
        "plt.show()"
      ]
    }
  ],
  "metadata": {
    "colab": {
      "provenance": [],
      "mount_file_id": "1H5BnmVdVGK0GIRgVcZ4_PvKt5SZmQNXr",
      "authorship_tag": "ABX9TyM1QL3+2aHqaTenZunXOBrK",
      "include_colab_link": true
    },
    "kernelspec": {
      "display_name": "Python 3",
      "name": "python3"
    },
    "language_info": {
      "name": "python"
    }
  },
  "nbformat": 4,
  "nbformat_minor": 0
}